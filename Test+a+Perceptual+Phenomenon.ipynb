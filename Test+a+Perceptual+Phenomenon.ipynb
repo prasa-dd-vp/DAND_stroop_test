{
 "cells": [
  {
   "cell_type": "markdown",
   "metadata": {},
   "source": [
    "### Analyzing the Stroop Effect\n",
    "Perform the analysis in the space below. Remember to follow [the instructions](https://docs.google.com/document/d/1-OkpZLjG_kX9J6LIQ5IltsqMzVWjh36QpnP2RYpVdPU/pub?embedded=True) and review the [project rubric](https://review.udacity.com/#!/rubrics/71/view) before submitting. Once you've completed the analysis and write up, download this file as a PDF or HTML file and submit in the next section.\n",
    "\n",
    "\n",
    "(1) What is the independent variable? What is the dependent variable?"
   ]
  },
  {
   "cell_type": "markdown",
   "metadata": {},
   "source": [
    "In the 'stroopdata' data set, the 'Time' in the 'Congruent' and 'Incongrent' column is the dependent variable and the word collection given in the stroop effect test is the independent variable."
   ]
  },
  {
   "cell_type": "markdown",
   "metadata": {},
   "source": [
    "(2) What is an appropriate set of hypotheses for this task? What kind of statistical test do you expect to perform? Justify your choices."
   ]
  },
  {
   "cell_type": "markdown",
   "metadata": {},
   "source": [
    "The set of hypothesis for this data set is found to be, \n",
    "\n",
    "Null Hypothesis: The mean time difference between the 'Incongruent' and 'Congruent' is less than or equal to zero.\n",
    "Alternative Hypothesis: The mean time difference between the 'Incongruent' and 'Congruent' is greater than zero.\n",
    "\n",
    "H_0 = μ_ic - μ_c <= 0;  \n",
    "H_1 = μ_ic - μ_c > 0; \n",
    "\n",
    "where H0 is the Null hypothesis,\n",
    "      H1 is the alternate hypothesis,\n",
    "      μ_ic is the Mean of Incongruent and \n",
    "      μ_c is the Mean of Congruent.\n",
    "\n",
    "I perform Paired-T test since the data follows Normal distribution and the person undergoing the stroop effect is same under different conditions.\n",
    "\n",
    "Reasons for not choosing other statistical tests:\n",
    "Here the assumptions for not choosing z-test is that the size of the given data set is small. Z-test is ideal only for the large data set. The independent T-test is applicable if the sample variables are independent. But here in the given data set, the sample variable is dependent. "
   ]
  },
  {
   "cell_type": "markdown",
   "metadata": {},
   "source": [
    "(3) Report some descriptive statistics regarding this dataset. Include at least one measure of central tendency and at least one measure of variability. The name of the data file is 'stroopdata.csv'."
   ]
  },
  {
   "cell_type": "code",
   "execution_count": 6,
   "metadata": {},
   "outputs": [
    {
     "name": "stdout",
     "output_type": "stream",
     "text": [
      "    Congruent  Incongruent\n",
      "0      12.079       19.278\n",
      "1      16.791       18.741\n",
      "2       9.564       21.214\n",
      "3       8.630       15.687\n",
      "4      14.669       22.803\n",
      "5      12.238       20.878\n",
      "6      14.692       24.572\n",
      "7       8.987       17.394\n",
      "8       9.401       20.762\n",
      "9      14.480       26.282\n",
      "10     22.328       24.524\n",
      "11     15.298       18.644\n",
      "12     15.073       17.510\n",
      "13     16.929       20.330\n",
      "14     18.200       35.255\n",
      "15     12.130       22.158\n",
      "16     18.495       25.139\n",
      "17     10.639       20.429\n",
      "18     11.344       17.425\n",
      "19     12.369       34.288\n",
      "20     12.944       23.894\n",
      "21     14.233       17.960\n",
      "22     19.710       22.058\n",
      "23     16.004       21.157\n",
      "14.051125 22.0159166667\n",
      "12.6690290707 23.0117570362\n"
     ]
    }
   ],
   "source": [
    "# Perform the analysis here\n",
    "import pandas as pd\n",
    "import numpy as np\n",
    "import scipy\n",
    "df= pd.read_csv('stroopdata.csv')\n",
    "mean_congruent , mean_incongruent = df['Congruent'].mean(), df['Incongruent'].mean()\n",
    "variance_congruent, variance_incongruent = df['Congruent'].var(), df['Incongruent'].var()\n",
    "print(df)\n",
    "print(mean_congruent , mean_incongruent)\n",
    "print(variance_congruent, variance_incongruent)"
   ]
  },
  {
   "cell_type": "markdown",
   "metadata": {},
   "source": [
    "From the observed dataset, the mean time of 'Congruent' and 'Incongruent' is found to be 14.051125 and 22.0159166667 respectively. The variance of 'Congruent' and 'Incongruent' is found to be 12.6690290707 and 23.0117570362 respectively. "
   ]
  },
  {
   "cell_type": "markdown",
   "metadata": {},
   "source": [
    "(4) Provide one or two visualizations that show the distribution of the sample data. Write one or two sentences noting what you observe about the plot or plots."
   ]
  },
  {
   "cell_type": "code",
   "execution_count": 8,
   "metadata": {},
   "outputs": [
    {
     "data": {
      "image/png": "[encoded data removed]",
      "text/plain": [
       "<matplotlib.figure.Figure at 0x7f2e44f65898>"
      ]
     },
     "metadata": {},
     "output_type": "display_data"
    },
    {
     "data": {
      "image/png": "[encoded data removed]",
      "text/plain": [
       "<matplotlib.figure.Figure at 0x7f2e44f6c400>"
      ]
     },
     "metadata": {},
     "output_type": "display_data"
    }
   ],
   "source": [
    "# Build the visualizations here\n",
    "#importing packages\n",
    "import matplotlib.pyplot as plt\n",
    "import seaborn as sns\n",
    "#bar graph to show the difference between mean time difference\n",
    "plt.title(\"Mean time of Congruent and Incongruent\")\n",
    "plt.bar([0,1],[mean_congruent , mean_incongruent], tick_label=['Congruent','Incongruent'])\n",
    "plt.ylabel('Time')\n",
    "plt.show()\n",
    "#histogram to visualize the confidence interval\n",
    "plt.hist(mean_diff)\n",
    "plt.axvline(x=low,color='red')\n",
    "plt.axvline(x=up,color='red')\n",
    "plt.title(\"Confidence level graph showing the mean time difference\")\n",
    "plt.xlabel('Time')\n",
    "plt.show()\n"
   ]
  },
  {
   "cell_type": "markdown",
   "metadata": {},
   "source": [
    "Here, the graphs shows the first bar graph shows that the mean time for 'Incongruent' is greater than the 'Congruent'. And, the second grapgh shows the confidence interval."
   ]
  },
  {
   "cell_type": "markdown",
   "metadata": {},
   "source": [
    "(5) Now, perform the statistical test and report the results. What is the confidence level and your critical statistic value? Do you reject the null hypothesis or fail to reject it? Come to a conclusion in terms of the experiment task. Did the results match up with your expectations?"
   ]
  },
  {
   "cell_type": "code",
   "execution_count": 7,
   "metadata": {},
   "outputs": [
    {
     "data": {
      "text/plain": [
       "Ttest_relResult(statistic=-8.020706944109957, pvalue=4.1030005857111781e-08)"
      ]
     },
     "execution_count": 7,
     "metadata": {},
     "output_type": "execute_result"
    }
   ],
   "source": [
    "# Perform the statistical test here\n",
    "#getting sample from the population\n",
    "sample_data = df.sample(10)\n",
    "#bootstraping\n",
    "mean_diff = []\n",
    "for _ in range(10000):\n",
    "    boot_sample = sample_data.sample(10, replace=True)\n",
    "    mean_diff.append(boot_sample.Incongruent.mean()-boot_sample.Congruent.mean())\n",
    "low, up= np.percentile(mean_diff,2.5), np.percentile(mean_diff,97.5)\n",
    "#finding p-value\n",
    "scipy.stats.ttest_rel(df['Congruent'], df['Incongruent'])\n"
   ]
  },
  {
   "cell_type": "markdown",
   "metadata": {},
   "source": [
    "The confidence level is 95% and the critical value I have taken is 0.05. I have obtained the 'statistic' value as -8.020706944109957 and the 'p-value' as 4.1030005857111781e-08. The obtained the p-value which approximately 0.001 which is less than 0.05. Here, the sample data of 10 observation is taken from the population of 24 observations to perform bootstraping and to find the confidence interval.\n",
    "\n",
    "Conclusion:\n",
    "Therefore, I reject the null hypothesis.\n",
    "Thus, the conclusion I have arrived is, the mean time difference between the 'Incongruent' and the 'Congruent' is greater than zero.\n",
    "\n",
    "Result:\n",
    "Yes, the results match up with my expectation."
   ]
  }
 ],
 "metadata": {
  "kernelspec": {
   "display_name": "Python 3",
   "language": "python",
   "name": "python3"
  },
  "language_info": {
   "codemirror_mode": {
    "name": "ipython",
    "version": 3
   },
   "file_extension": ".py",
   "mimetype": "text/x-python",
   "name": "python",
   "nbconvert_exporter": "python",
   "pygments_lexer": "ipython3",
   "version": "3.6.1"
  }
 },
 "nbformat": 4,
 "nbformat_minor": 2
}
